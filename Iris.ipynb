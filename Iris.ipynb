{
 "cells": [
  {
   "cell_type": "code",
   "execution_count": 1,
   "metadata": {},
   "outputs": [],
   "source": [
    "import pandas as pd"
   ]
  },
  {
   "cell_type": "code",
   "execution_count": 2,
   "metadata": {},
   "outputs": [
    {
     "data": {
      "text/html": [
       "<div>\n",
       "<style scoped>\n",
       "    .dataframe tbody tr th:only-of-type {\n",
       "        vertical-align: middle;\n",
       "    }\n",
       "\n",
       "    .dataframe tbody tr th {\n",
       "        vertical-align: top;\n",
       "    }\n",
       "\n",
       "    .dataframe thead th {\n",
       "        text-align: right;\n",
       "    }\n",
       "</style>\n",
       "<table border=\"1\" class=\"dataframe\">\n",
       "  <thead>\n",
       "    <tr style=\"text-align: right;\">\n",
       "      <th></th>\n",
       "      <th>Id</th>\n",
       "      <th>SepalLengthCm</th>\n",
       "      <th>SepalWidthCm</th>\n",
       "      <th>PetalLengthCm</th>\n",
       "      <th>PetalWidthCm</th>\n",
       "      <th>Species</th>\n",
       "    </tr>\n",
       "  </thead>\n",
       "  <tbody>\n",
       "    <tr>\n",
       "      <th>0</th>\n",
       "      <td>1</td>\n",
       "      <td>5.1</td>\n",
       "      <td>3.5</td>\n",
       "      <td>1.4</td>\n",
       "      <td>0.2</td>\n",
       "      <td>Iris-setosa</td>\n",
       "    </tr>\n",
       "    <tr>\n",
       "      <th>1</th>\n",
       "      <td>2</td>\n",
       "      <td>4.9</td>\n",
       "      <td>3.0</td>\n",
       "      <td>1.4</td>\n",
       "      <td>0.2</td>\n",
       "      <td>Iris-setosa</td>\n",
       "    </tr>\n",
       "    <tr>\n",
       "      <th>2</th>\n",
       "      <td>3</td>\n",
       "      <td>4.7</td>\n",
       "      <td>3.2</td>\n",
       "      <td>1.3</td>\n",
       "      <td>0.2</td>\n",
       "      <td>Iris-setosa</td>\n",
       "    </tr>\n",
       "    <tr>\n",
       "      <th>3</th>\n",
       "      <td>4</td>\n",
       "      <td>4.6</td>\n",
       "      <td>3.1</td>\n",
       "      <td>1.5</td>\n",
       "      <td>0.2</td>\n",
       "      <td>Iris-setosa</td>\n",
       "    </tr>\n",
       "    <tr>\n",
       "      <th>4</th>\n",
       "      <td>5</td>\n",
       "      <td>5.0</td>\n",
       "      <td>3.6</td>\n",
       "      <td>1.4</td>\n",
       "      <td>0.2</td>\n",
       "      <td>Iris-setosa</td>\n",
       "    </tr>\n",
       "  </tbody>\n",
       "</table>\n",
       "</div>"
      ],
      "text/plain": [
       "   Id  SepalLengthCm  SepalWidthCm  PetalLengthCm  PetalWidthCm      Species\n",
       "0   1            5.1           3.5            1.4           0.2  Iris-setosa\n",
       "1   2            4.9           3.0            1.4           0.2  Iris-setosa\n",
       "2   3            4.7           3.2            1.3           0.2  Iris-setosa\n",
       "3   4            4.6           3.1            1.5           0.2  Iris-setosa\n",
       "4   5            5.0           3.6            1.4           0.2  Iris-setosa"
      ]
     },
     "execution_count": 2,
     "metadata": {},
     "output_type": "execute_result"
    }
   ],
   "source": [
    "df = pd.read_csv('Iris.csv')\n",
    "df.head()"
   ]
  },
  {
   "cell_type": "code",
   "execution_count": 3,
   "metadata": {},
   "outputs": [],
   "source": [
    "df = df.dropna()\n",
    "df = df.drop(['Id'],axis=1)"
   ]
  },
  {
   "cell_type": "code",
   "execution_count": 4,
   "metadata": {},
   "outputs": [],
   "source": [
    "X = df.drop(['Species'],axis=1)"
   ]
  },
  {
   "cell_type": "code",
   "execution_count": 5,
   "metadata": {},
   "outputs": [],
   "source": [
    "y = df['Species']"
   ]
  },
  {
   "cell_type": "code",
   "execution_count": 6,
   "metadata": {},
   "outputs": [],
   "source": [
    "from sklearn.model_selection import train_test_split"
   ]
  },
  {
   "cell_type": "code",
   "execution_count": 7,
   "metadata": {},
   "outputs": [],
   "source": [
    "X_train, X_test, y_train, y_test = train_test_split(X, y, test_size=0.33, random_state=42)"
   ]
  },
  {
   "cell_type": "code",
   "execution_count": 8,
   "metadata": {},
   "outputs": [],
   "source": [
    "from sklearn.preprocessing import StandardScaler"
   ]
  },
  {
   "cell_type": "code",
   "execution_count": 9,
   "metadata": {},
   "outputs": [],
   "source": [
    "scaler = StandardScaler()"
   ]
  },
  {
   "cell_type": "code",
   "execution_count": 10,
   "metadata": {},
   "outputs": [
    {
     "data": {
      "text/plain": [
       "array([[-0.13835603, -0.25606255,  0.22188787,  0.11008189],\n",
       "       [ 2.14752625, -0.01449411,  1.61230796,  1.18405156],\n",
       "       [-0.25866563, -0.01449411,  0.39569038,  0.37857431],\n",
       "       [-0.8602136 ,  1.19334812, -1.4002689 , -1.36662641],\n",
       "       [ 2.26783585, -0.497631  ,  1.67024213,  1.04980535],\n",
       "       [-0.01804644, -0.73919944,  0.1639537 , -0.29265674],\n",
       "       [-0.739904  ,  0.95177968, -1.4002689 , -1.36662641],\n",
       "       [-0.98052319,  1.19334812, -1.45820307, -1.2323802 ],\n",
       "       [-0.8602136 ,  1.91805346, -1.11059804, -1.09813399],\n",
       "       [-0.98052319, -2.43017856, -0.18365132, -0.29265674],\n",
       "       [ 0.58350153, -0.73919944,  0.62742706,  0.78131293],\n",
       "       [-1.22114238,  0.95177968, -1.11059804, -1.36662641],\n",
       "       [-0.98052319, -0.01449411, -1.28440056, -1.36662641],\n",
       "       [-0.8602136 ,  0.71021123, -1.22646639, -0.96388778],\n",
       "       [-0.25866563, -0.73919944,  0.22188787,  0.11008189],\n",
       "       [-0.8602136 ,  0.95177968, -1.34233473, -1.36662641],\n",
       "       [-0.13835603, -0.01449411,  0.22188787, -0.02416432],\n",
       "       [ 2.26783585,  1.91805346,  1.67024213,  1.31829777],\n",
       "       [-1.46176157,  0.46864278, -1.4002689 , -1.36662641],\n",
       "       [ 0.46319194, -0.25606255,  0.27982204,  0.11008189],\n",
       "       [-0.13835603, -1.22233633,  0.68536123,  1.04980535],\n",
       "       [-0.37897522,  2.88432724, -1.4002689 , -1.36662641],\n",
       "       [ 0.22257275, -0.01449411,  0.56949289,  0.78131293],\n",
       "       [-0.01804644, -0.73919944,  0.7432954 ,  0.91555914],\n",
       "       [ 0.22257275, -1.94704167,  0.10601953, -0.29265674],\n",
       "       [-0.49928482, -0.01449411,  0.39569038,  0.37857431],\n",
       "       [ 0.46319194,  0.95177968,  0.91709792,  1.45254398],\n",
       "       [-0.37897522, -1.70547322,  0.10601953,  0.11008189],\n",
       "       [-0.49928482,  2.1596219 , -1.22646639, -1.09813399],\n",
       "       [-0.98052319, -1.70547322, -0.29951966, -0.29265674],\n",
       "       [ 0.70381112, -0.73919944,  0.85916375,  0.91555914],\n",
       "       [-0.98052319,  0.71021123, -1.4002689 , -1.36662641],\n",
       "       [-0.98052319,  0.46864278, -1.51613724, -1.36662641],\n",
       "       [-0.37897522, -1.46390478, -0.00984881, -0.15841053],\n",
       "       [ 1.06473991, -0.01449411,  0.68536123,  0.64706673],\n",
       "       [-1.10083279,  0.22707434, -1.34233473, -1.50087261],\n",
       "       [-0.01804644, -0.497631  ,  0.7432954 ,  1.58679019],\n",
       "       [-0.98052319,  0.95177968, -1.34233473, -1.36662641],\n",
       "       [-0.98052319,  1.19334812, -1.28440056, -0.82964157],\n",
       "       [ 0.10226315,  0.46864278,  0.56949289,  0.78131293],\n",
       "       [-0.8602136 , -1.22233633, -0.47332217, -0.15841053],\n",
       "       [ 1.30535909,  0.46864278,  1.09090043,  1.45254398],\n",
       "       [ 0.22257275, -0.73919944,  0.7432954 ,  0.51282052],\n",
       "       [ 0.34288234, -0.98076789,  1.03296626,  0.2443281 ],\n",
       "       [ 2.26783585, -0.01449411,  1.32263711,  1.45254398],\n",
       "       [-0.37897522, -1.22233633,  0.10601953,  0.11008189],\n",
       "       [-1.70238076, -0.25606255, -1.4002689 , -1.36662641],\n",
       "       [-1.82269035, -0.01449411, -1.57407141, -1.50087261],\n",
       "       [ 0.22257275, -1.94704167,  0.68536123,  0.37857431],\n",
       "       [ 1.66628788,  0.46864278,  1.26470294,  0.78131293],\n",
       "       [-1.46176157,  0.22707434, -1.34233473, -1.36662641],\n",
       "       [-0.8602136 ,  1.19334812, -1.4002689 , -1.2323802 ],\n",
       "       [-1.70238076, -0.01449411, -1.45820307, -1.36662641],\n",
       "       [ 0.58350153, -1.22233633,  0.62742706,  0.37857431],\n",
       "       [ 0.58350153,  0.95177968,  1.03296626,  1.58679019],\n",
       "       [-1.46176157,  0.95177968, -1.4002689 , -1.2323802 ],\n",
       "       [ 1.1850495 , -0.01449411,  0.97503209,  1.18405156],\n",
       "       [ 0.58350153,  0.71021123,  1.26470294,  1.7210364 ],\n",
       "       [-1.34145197,  0.46864278, -1.45820307, -1.36662641],\n",
       "       [ 0.34288234, -0.25606255,  0.51155872,  0.2443281 ],\n",
       "       [ 0.82412072, -0.497631  ,  0.45362455,  0.37857431],\n",
       "       [ 0.46319194, -0.497631  ,  0.56949289,  0.78131293],\n",
       "       [ 1.42566869,  0.46864278,  0.51155872,  0.2443281 ],\n",
       "       [ 0.70381112,  0.46864278,  0.85916375,  1.45254398],\n",
       "       [-0.8602136 ,  1.91805346, -1.28440056, -1.36662641],\n",
       "       [ 1.30535909,  0.22707434,  0.91709792,  1.18405156],\n",
       "       [ 0.10226315, -0.01449411,  0.22188787,  0.37857431],\n",
       "       [ 0.82412072, -0.01449411,  0.80122958,  1.04980535],\n",
       "       [-0.13835603, -0.98076789, -0.18365132, -0.29265674],\n",
       "       [-0.739904  , -0.73919944,  0.04808536,  0.2443281 ],\n",
       "       [ 0.34288234, -0.01449411,  0.45362455,  0.2443281 ],\n",
       "       [-1.58207116, -1.70547322, -1.45820307, -1.2323802 ],\n",
       "       [ 0.94443031, -0.25606255,  0.45362455,  0.11008189],\n",
       "       [-0.37897522, -0.98076789,  0.33775621, -0.02416432],\n",
       "       [-0.61959441,  1.67648501, -1.34233473, -1.36662641],\n",
       "       [-0.25866563, -0.01449411,  0.1639537 ,  0.11008189],\n",
       "       [ 1.78659747, -0.25606255,  1.43850545,  0.78131293],\n",
       "       [ 1.06473991,  0.71021123,  1.09090043,  1.18405156],\n",
       "       [-0.8602136 ,  1.67648501, -1.34233473, -1.09813399],\n",
       "       [-1.10083279, -1.46390478, -0.29951966, -0.29265674],\n",
       "       [ 1.06473991,  0.71021123,  1.09090043,  1.7210364 ],\n",
       "       [ 1.66628788, -0.01449411,  1.1488346 ,  0.51282052],\n",
       "       [-1.10083279,  0.22707434, -1.34233473, -1.50087261],\n",
       "       [ 1.06473991,  0.22707434,  1.03296626,  1.58679019],\n",
       "       [-1.10083279, -0.01449411, -1.4002689 , -1.36662641],\n",
       "       [ 1.30535909,  0.22707434,  0.62742706,  0.37857431],\n",
       "       [ 1.90690706, -0.497631  ,  1.32263711,  0.91555914],\n",
       "       [ 0.58350153, -0.25606255,  1.03296626,  0.78131293],\n",
       "       [-0.13835603, -0.497631  ,  0.1639537 ,  0.11008189],\n",
       "       [ 0.82412072, -0.01449411,  0.97503209,  0.78131293],\n",
       "       [ 0.58350153, -1.70547322,  0.33775621,  0.11008189],\n",
       "       [ 0.70381112, -0.25606255,  0.27982204,  0.11008189],\n",
       "       [-0.25866563, -0.497631  ,  0.62742706,  1.04980535],\n",
       "       [ 0.10226315, -0.01449411,  0.7432954 ,  0.78131293],\n",
       "       [-0.49928482,  0.95177968, -1.22646639, -1.36662641],\n",
       "       [ 0.34288234, -0.497631  ,  0.10601953,  0.11008189],\n",
       "       [-1.10083279, -1.22233633,  0.39569038,  0.64706673],\n",
       "       [-0.01804644,  2.40119035, -1.51613724, -1.36662641],\n",
       "       [-0.01804644, -0.98076789,  0.10601953, -0.02416432],\n",
       "       [ 1.54597828, -0.01449411,  1.20676877,  1.18405156]])"
      ]
     },
     "execution_count": 10,
     "metadata": {},
     "output_type": "execute_result"
    }
   ],
   "source": [
    "scaler.fit_transform(X_train)"
   ]
  },
  {
   "cell_type": "code",
   "execution_count": 17,
   "metadata": {},
   "outputs": [],
   "source": [
    "from sklearn.ensemble import RandomForestClassifier"
   ]
  },
  {
   "cell_type": "code",
   "execution_count": 18,
   "metadata": {},
   "outputs": [],
   "source": [
    "clf = RandomForestClassifier()"
   ]
  },
  {
   "cell_type": "code",
   "execution_count": 19,
   "metadata": {},
   "outputs": [
    {
     "name": "stderr",
     "output_type": "stream",
     "text": [
      "c:\\users\\gaurav\\anaconda2\\envs\\ml-gpu\\lib\\site-packages\\sklearn\\ensemble\\forest.py:246: FutureWarning: The default value of n_estimators will change from 10 in version 0.20 to 100 in 0.22.\n",
      "  \"10 in version 0.20 to 100 in 0.22.\", FutureWarning)\n"
     ]
    },
    {
     "data": {
      "text/plain": [
       "RandomForestClassifier(bootstrap=True, class_weight=None, criterion='gini',\n",
       "            max_depth=None, max_features='auto', max_leaf_nodes=None,\n",
       "            min_impurity_decrease=0.0, min_impurity_split=None,\n",
       "            min_samples_leaf=1, min_samples_split=2,\n",
       "            min_weight_fraction_leaf=0.0, n_estimators=10, n_jobs=None,\n",
       "            oob_score=False, random_state=None, verbose=0,\n",
       "            warm_start=False)"
      ]
     },
     "execution_count": 19,
     "metadata": {},
     "output_type": "execute_result"
    }
   ],
   "source": [
    "clf.fit(X_train,y_train)"
   ]
  },
  {
   "cell_type": "code",
   "execution_count": 20,
   "metadata": {},
   "outputs": [],
   "source": [
    "predcitions = clf.predict(X_test)"
   ]
  },
  {
   "cell_type": "code",
   "execution_count": 21,
   "metadata": {},
   "outputs": [],
   "source": [
    "from sklearn.metrics import classification_report"
   ]
  },
  {
   "cell_type": "code",
   "execution_count": 22,
   "metadata": {},
   "outputs": [
    {
     "name": "stdout",
     "output_type": "stream",
     "text": [
      "                 precision    recall  f1-score   support\n",
      "\n",
      "    Iris-setosa       1.00      1.00      1.00        19\n",
      "Iris-versicolor       1.00      1.00      1.00        15\n",
      " Iris-virginica       1.00      1.00      1.00        16\n",
      "\n",
      "      micro avg       1.00      1.00      1.00        50\n",
      "      macro avg       1.00      1.00      1.00        50\n",
      "   weighted avg       1.00      1.00      1.00        50\n",
      "\n"
     ]
    }
   ],
   "source": [
    "print(classification_report(y_test,predcitions))"
   ]
  },
  {
   "cell_type": "code",
   "execution_count": null,
   "metadata": {},
   "outputs": [],
   "source": []
  }
 ],
 "metadata": {
  "kernelspec": {
   "display_name": "Python 3",
   "language": "python",
   "name": "python3"
  },
  "language_info": {
   "codemirror_mode": {
    "name": "ipython",
    "version": 3
   },
   "file_extension": ".py",
   "mimetype": "text/x-python",
   "name": "python",
   "nbconvert_exporter": "python",
   "pygments_lexer": "ipython3",
   "version": "3.7.3"
  }
 },
 "nbformat": 4,
 "nbformat_minor": 2
}
